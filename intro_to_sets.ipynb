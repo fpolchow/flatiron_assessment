{
 "cells": [
  {
   "cell_type": "markdown",
   "metadata": {},
   "source": [
    "# Introduction to Sets"
   ]
  },
  {
   "cell_type": "markdown",
   "metadata": {},
   "source": [
    "## Overview:\n",
    "\n",
    "This lesson will introduce the set datatype and detail how to perform operations with sets.\n"
   ]
  },
  {
   "cell_type": "markdown",
   "metadata": {},
   "source": [
    "## Objectives\n",
    "\n",
    "1. Learn the characteristics of sets\n",
    "2. Create a set\n",
    "3. Add items to a set\n",
    "4. Remove items from a set\n",
    "5. Perform operations between sets\n",
    "6. Determine use cases for sets\n",
    "7. Analyze the efficiency of sets \n",
    "8. Create functions that make use of sets"
   ]
  },
  {
   "cell_type": "markdown",
   "metadata": {},
   "source": [
    "## What are sets?"
   ]
  },
  {
   "cell_type": "markdown",
   "metadata": {},
   "source": [
    "A set is an unordered, mutable collection of unique items. What does this mean? It means that a set is a data structure in which you can store items and not care about their order, knowing that there will always be *at most* one of them in the structure. \n",
    "\n",
    "To help you distinguish between the data types:\n",
    "\n",
    "* lists : mutable and ordered\n",
    "* tuples: immutable and ordered\n",
    "* dictionaries: mutable and unordered\n",
    "* sets: mutable and unordered"
   ]
  },
  {
   "cell_type": "markdown",
   "metadata": {},
   "source": [
    "## Creating a Set\n",
    "\n",
    "The set( ) function turns a single array into a set. Curly brackets will create a *dictionary*, but if items are included in the brackets (that are not in key:value pair format), a set is created."
   ]
  },
  {
   "cell_type": "code",
   "execution_count": 1,
   "metadata": {},
   "outputs": [
    {
     "name": "stdout",
     "output_type": "stream",
     "text": [
      "<class 'set'>\n",
      "<class 'set'>\n",
      "<class 'dict'>\n"
     ]
    }
   ],
   "source": [
    "set_1 = set(['a','b','c','d'])\n",
    "set_2 = {'a','b','c','d'}\n",
    "dic = {}\n",
    "print(type(set_1))\n",
    "print(type(set_2))\n",
    "print(type(dic))"
   ]
  },
  {
   "cell_type": "code",
   "execution_count": 2,
   "metadata": {},
   "outputs": [
    {
     "name": "stdout",
     "output_type": "stream",
     "text": [
      "{'b', 'd', 'a', 'c'}\n",
      "{'b', 'd', 'a', 'c'}\n"
     ]
    }
   ],
   "source": [
    "print(set_1)\n",
    "print(set_2)"
   ]
  },
  {
   "cell_type": "markdown",
   "metadata": {},
   "source": [
    "You'll notice that the Jupyter Notebook displays both of the sets with the same order. This is just iPython trying to organize the sets in an easier to understand manner. All the items in a set are *unordered*. Let's prove it. Down below we have a list of my favorite Skittles flavors."
   ]
  },
  {
   "cell_type": "code",
   "execution_count": 3,
   "metadata": {},
   "outputs": [],
   "source": [
    "list_a = ['blue','red','orange','purple']\n",
    "set_a = {'blue', 'red','orange','purple'}"
   ]
  },
  {
   "cell_type": "markdown",
   "metadata": {},
   "source": [
    "Now, we're going to access one of the items (red) in the list by using its index (1):"
   ]
  },
  {
   "cell_type": "code",
   "execution_count": 4,
   "metadata": {},
   "outputs": [
    {
     "data": {
      "text/plain": [
       "'red'"
      ]
     },
     "execution_count": 4,
     "metadata": {},
     "output_type": "execute_result"
    }
   ],
   "source": [
    "list_a[1]"
   ]
  },
  {
   "cell_type": "markdown",
   "metadata": {},
   "source": [
    "Because the list is ordered, I'm able to use the index. Let's try and do the same thing with a set."
   ]
  },
  {
   "cell_type": "code",
   "execution_count": 5,
   "metadata": {},
   "outputs": [
    {
     "ename": "TypeError",
     "evalue": "'set' object does not support indexing",
     "output_type": "error",
     "traceback": [
      "\u001b[0;31m---------------------------------------------------------------------------\u001b[0m",
      "\u001b[0;31mTypeError\u001b[0m                                 Traceback (most recent call last)",
      "\u001b[0;32m<ipython-input-5-eb766a52f085>\u001b[0m in \u001b[0;36m<module>\u001b[0;34m()\u001b[0m\n\u001b[0;32m----> 1\u001b[0;31m \u001b[0mset_a\u001b[0m\u001b[0;34m[\u001b[0m\u001b[0;36m2\u001b[0m\u001b[0;34m]\u001b[0m\u001b[0;34m\u001b[0m\u001b[0m\n\u001b[0m",
      "\u001b[0;31mTypeError\u001b[0m: 'set' object does not support indexing"
     ]
    }
   ],
   "source": [
    "set_a[2]"
   ]
  },
  {
   "cell_type": "markdown",
   "metadata": {},
   "source": [
    "As you can see, we are unable to choose a specific index into a set because there is no index! The values within a set are unordered."
   ]
  },
  {
   "cell_type": "markdown",
   "metadata": {},
   "source": [
    "## Adding items to a Set\n",
    "\n",
    "To add single items to a set, use the .add( ) method. Notice items in sets do not have to contain the same datatype.\n",
    "\n",
    "### Single Items\n",
    "\n",
    "To add an item to a set, use the .add( ) method."
   ]
  },
  {
   "cell_type": "code",
   "execution_count": 6,
   "metadata": {},
   "outputs": [
    {
     "name": "stdout",
     "output_type": "stream",
     "text": [
      "{'b', 1, 'a', 'c', 'd'}\n"
     ]
    }
   ],
   "source": [
    "set_1.add(1)\n",
    "print(set_1)"
   ]
  },
  {
   "cell_type": "markdown",
   "metadata": {},
   "source": [
    "Notice that the .add( ) method is done *in-place*, meaning the set we instantiated earlier has been modified. We are not creating a new set. If I were to set this equal a new variable, it would be of the type None."
   ]
  },
  {
   "cell_type": "code",
   "execution_count": 7,
   "metadata": {},
   "outputs": [
    {
     "name": "stdout",
     "output_type": "stream",
     "text": [
      "None\n"
     ]
    }
   ],
   "source": [
    "new_set =  set_1.add(1)\n",
    "print(new_set)"
   ]
  },
  {
   "cell_type": "markdown",
   "metadata": {},
   "source": [
    "Now, let's see if we can add a list to a set."
   ]
  },
  {
   "cell_type": "code",
   "execution_count": 8,
   "metadata": {},
   "outputs": [
    {
     "ename": "TypeError",
     "evalue": "unhashable type: 'list'",
     "output_type": "error",
     "traceback": [
      "\u001b[0;31m---------------------------------------------------------------------------\u001b[0m",
      "\u001b[0;31mTypeError\u001b[0m                                 Traceback (most recent call last)",
      "\u001b[0;32m<ipython-input-8-6c0df638eb62>\u001b[0m in \u001b[0;36m<module>\u001b[0;34m()\u001b[0m\n\u001b[0;32m----> 1\u001b[0;31m \u001b[0mset_1\u001b[0m\u001b[0;34m.\u001b[0m\u001b[0madd\u001b[0m\u001b[0;34m(\u001b[0m\u001b[0;34m[\u001b[0m\u001b[0;36m1\u001b[0m\u001b[0;34m,\u001b[0m\u001b[0;36m2\u001b[0m\u001b[0;34m,\u001b[0m\u001b[0;36m3\u001b[0m\u001b[0;34m,\u001b[0m\u001b[0;36m4\u001b[0m\u001b[0;34m,\u001b[0m\u001b[0;36m5\u001b[0m\u001b[0;34m]\u001b[0m\u001b[0;34m)\u001b[0m\u001b[0;34m\u001b[0m\u001b[0m\n\u001b[0m",
      "\u001b[0;31mTypeError\u001b[0m: unhashable type: 'list'"
     ]
    }
   ],
   "source": [
    "set_1.add([1,2,3,4,5])"
   ]
  },
  {
   "cell_type": "markdown",
   "metadata": {},
   "source": [
    "We can't! The issue here has to do with mutability. Every item in a set must be *immutable*. Therefore, lists, sets, and dictionaries cannot be included into a set. \n",
    "\n",
    "### Multiple Items\n",
    "\n",
    "What if we wanted to add more than one item at a time to a set. In order to do this, we can use the .update( ) method. *Note: The update method requires an iterable as input*"
   ]
  },
  {
   "cell_type": "code",
   "execution_count": 9,
   "metadata": {},
   "outputs": [
    {
     "name": "stdout",
     "output_type": "stream",
     "text": [
      "{'b', 1, 2, 3, 'a', 'c', 4, 5, 'd'}\n"
     ]
    }
   ],
   "source": [
    "set_1.update([1,2,3,4,5])\n",
    "print(set_1)"
   ]
  },
  {
   "cell_type": "markdown",
   "metadata": {},
   "source": [
    "#### Bonus Info\n",
    "\n",
    "If we want to create a set that is *immutable*, in other words, the values in it cannot be changed, we can create a frozen set by using the frozenset( ) in the same way we use the set( ) function. Because frozen sets are immutable, they can be added to a set."
   ]
  },
  {
   "cell_type": "markdown",
   "metadata": {},
   "source": [
    "## Removing Items from a Set\n",
    "To remove items form a set, we can use the .remove( ) or .discard( ) methods. The .remove( ) method will return an Error if an item is not present. The .discard( ) method will remove an item from a set if it is present, but it will not return a Error if the item you are trying to remove is not present."
   ]
  },
  {
   "cell_type": "code",
   "execution_count": 10,
   "metadata": {},
   "outputs": [
    {
     "name": "stdout",
     "output_type": "stream",
     "text": [
      "{1, 2, 3, 'a', 'c', 4, 5, 'd'}\n"
     ]
    }
   ],
   "source": [
    "set_1.remove('b')\n",
    "print(set_1)"
   ]
  },
  {
   "cell_type": "code",
   "execution_count": 11,
   "metadata": {},
   "outputs": [
    {
     "name": "stdout",
     "output_type": "stream",
     "text": [
      "{1, 2, 3, 'a', 'c', 4, 'd'}\n"
     ]
    }
   ],
   "source": [
    "set_1.discard(5)\n",
    "print(set_1)"
   ]
  },
  {
   "cell_type": "markdown",
   "metadata": {},
   "source": [
    "## Operations with sets\n",
    "\n",
    "The main utility of sets is when we perform operations on them to test for membership within different groups. The main operations we can perform are:\n",
    "\n",
    "* in/not in\n",
    "* union\n",
    "* intersection\n",
    "* difference\n",
    "* symmetric difference\n",
    "* subset/superset\n",
    "\n",
    "Here are examples of these operations. Imagine the two sets below represent the number of Girl Scout Cookies ordered by households in one city block versus another"
   ]
  },
  {
   "cell_type": "code",
   "execution_count": 12,
   "metadata": {},
   "outputs": [],
   "source": [
    "set_a, set_b = {3,4,8,9,10,0,1,12}, {5,4,3,0,20,1,2}\n"
   ]
  },
  {
   "cell_type": "markdown",
   "metadata": {},
   "source": [
    "#### In / Not In\n",
    "The in operator works returns True if the value is contained within a set and False in a value is not in it.\n",
    "\n",
    "The not in operator does the opposite, returning True if a value is not found within a set and False if a value is."
   ]
  },
  {
   "cell_type": "code",
   "execution_count": 13,
   "metadata": {},
   "outputs": [
    {
     "name": "stdout",
     "output_type": "stream",
     "text": [
      "True\n",
      "False\n"
     ]
    }
   ],
   "source": [
    "print(3 in set_a)\n",
    "print(4 not in set_a)"
   ]
  },
  {
   "cell_type": "markdown",
   "metadata": {},
   "source": [
    "#### Union\n",
    "To find all of the different order numbers from both blocks, we would need to perform a *union*. This combines all elements of both sets. This can be done using the .union( ) method or the **|** operator.  *Note: these operations are not done 'in-place,' so you must set the result equal to another variable to use the result\n",
    "<img src=\"images/union.png\" width=\"300px\">"
   ]
  },
  {
   "cell_type": "code",
   "execution_count": 14,
   "metadata": {},
   "outputs": [
    {
     "name": "stdout",
     "output_type": "stream",
     "text": [
      "{0, 1, 2, 3, 4, 5, 8, 9, 10, 12, 20}\n",
      "{0, 1, 2, 3, 4, 5, 8, 9, 10, 12, 20}\n"
     ]
    }
   ],
   "source": [
    "print(set_a.union(set_b))\n",
    "print(set_a | set_b)"
   ]
  },
  {
   "cell_type": "markdown",
   "metadata": {},
   "source": [
    "#### Intersections\n",
    "\n",
    "If we wanted to find the overlap in the number of orders from both blocks, we would need to find the *intersection*. These are the items that are included in both original sets. We can perform this operation with the .intersection( ) method or use the **&** operator.\n",
    "<img src=\"images/intersection.png\" width=\"300px\">"
   ]
  },
  {
   "cell_type": "code",
   "execution_count": 15,
   "metadata": {},
   "outputs": [
    {
     "name": "stdout",
     "output_type": "stream",
     "text": [
      "{0, 1, 3, 4}\n",
      "{0, 1, 3, 4}\n"
     ]
    }
   ],
   "source": [
    "print(set_a.intersection(set_b))\n",
    "print(set_a & set_b)"
   ]
  },
  {
   "cell_type": "markdown",
   "metadata": {},
   "source": [
    "#### Difference\n",
    "\n",
    "If we wanted to find the order numbers that were unique to one of the blocks, we need to take the *difference*. We can perform this operation by using the .difference( ) method or use the **-** operator. Note that the order is important: whichever set is first is the one in which we are interested."
   ]
  },
  {
   "cell_type": "markdown",
   "metadata": {},
   "source": [
    " <tr>\n",
    "   <td>  <img src=\"images/differencea_b.png\" width=\"200px\"> </td>\n",
    "   <td> <img src=\"images/differenceb_a.png\" width=\"200px\"> </td>\n",
    " </tr>"
   ]
  },
  {
   "cell_type": "code",
   "execution_count": 16,
   "metadata": {},
   "outputs": [
    {
     "name": "stdout",
     "output_type": "stream",
     "text": [
      "{8, 9, 10, 12}\n",
      "{8, 9, 10, 12}\n"
     ]
    }
   ],
   "source": [
    "print(set_a.difference(set_b))\n",
    "print(set_a - set_b)"
   ]
  },
  {
   "cell_type": "code",
   "execution_count": 17,
   "metadata": {},
   "outputs": [
    {
     "name": "stdout",
     "output_type": "stream",
     "text": [
      "{2, 20, 5}\n",
      "{2, 20, 5}\n"
     ]
    }
   ],
   "source": [
    "print(set_b.difference(set_a))\n",
    "print(set_b - set_a)"
   ]
  },
  {
   "cell_type": "markdown",
   "metadata": {},
   "source": [
    "#### Symmetric Difference\n",
    "\n",
    "If we wanted to find out the unique counts found within both of these events, we would want to find the symmetric difference between the two. To do this, we can use the symmetric_difference( ) method.\n",
    "<img src=\"images/symmetric_difference.png\" width=\"300px\">"
   ]
  },
  {
   "cell_type": "code",
   "execution_count": 18,
   "metadata": {},
   "outputs": [
    {
     "name": "stdout",
     "output_type": "stream",
     "text": [
      "{2, 5, 8, 9, 10, 12, 20}\n"
     ]
    }
   ],
   "source": [
    "print(set_a.symmetric_difference(set_b))"
   ]
  },
  {
   "cell_type": "markdown",
   "metadata": {},
   "source": [
    "You might notice that the symmetric difference is the same thing as the union of the two differences."
   ]
  },
  {
   "cell_type": "code",
   "execution_count": 19,
   "metadata": {},
   "outputs": [
    {
     "data": {
      "text/plain": [
       "{2, 5, 8, 9, 10, 12, 20}"
      ]
     },
     "execution_count": 19,
     "metadata": {},
     "output_type": "execute_result"
    }
   ],
   "source": [
    "(set_a - set_b).union(set_b - set_a)"
   ]
  },
  {
   "cell_type": "markdown",
   "metadata": {},
   "source": [
    "#### Subset and Superset\n",
    "Subsets are when every item in a set is contained in another set. A superset is a set contains the entirety of another set within it. In this diagram, the A is a subset of B and B is a superset of A. The method to determine whether or not something is a sub or superset is .issubset( ) and .issuperset( ) respectively, which will return a Boolean TRUE or FALSE.\n",
    "\n",
    "<img src=\"images/sub_superset.png\" width=\"300px\">"
   ]
  },
  {
   "cell_type": "markdown",
   "metadata": {},
   "source": [
    "## Set Use Cases\n",
    "\n",
    "Sets are very powerful when it comes to testing for membership. It is much faster to test for membership in a set rather than a list. Let's look at an example where we test whether or not an array has the number 10 in it."
   ]
  },
  {
   "cell_type": "code",
   "execution_count": 20,
   "metadata": {},
   "outputs": [],
   "source": [
    "example_set = set([8,5,3,6,9,0,10,20])\n",
    "example_list = [8,5,3,6,9,0,10,20]"
   ]
  },
  {
   "cell_type": "code",
   "execution_count": 21,
   "metadata": {},
   "outputs": [
    {
     "name": "stdout",
     "output_type": "stream",
     "text": [
      "True\n",
      "True\n"
     ]
    }
   ],
   "source": [
    "print(10 in example_list)\n",
    "print(10 in example_set)"
   ]
  },
  {
   "cell_type": "code",
   "execution_count": 22,
   "metadata": {},
   "outputs": [
    {
     "name": "stdout",
     "output_type": "stream",
     "text": [
      "84.3 ns ± 0.828 ns per loop (mean ± std. dev. of 7 runs, 10000000 loops each)\n"
     ]
    }
   ],
   "source": [
    "import timeit\n",
    "import string\n",
    "import nltk\n",
    "# nltk.download('stopwords')\n",
    "from nltk.corpus import stopwords\n",
    "%timeit 10 in example_list"
   ]
  },
  {
   "cell_type": "code",
   "execution_count": 26,
   "metadata": {},
   "outputs": [
    {
     "name": "stdout",
     "output_type": "stream",
     "text": [
      "33 ns ± 1.07 ns per loop (mean ± std. dev. of 7 runs, 10000000 loops each)\n"
     ]
    }
   ],
   "source": [
    "%timeit 10 in example_set"
   ]
  },
  {
   "cell_type": "markdown",
   "metadata": {},
   "source": [
    "As we can see, it is much faster to test for membership in sets than in a list. This is because python must iterate through every item of the list; whereas, it can just look in the hash table and determine membership for the set. Let's look at an example with far more items in each datatype."
   ]
  },
  {
   "cell_type": "code",
   "execution_count": 27,
   "metadata": {},
   "outputs": [
    {
     "name": "stdout",
     "output_type": "stream",
     "text": [
      "9.59 µs ± 220 ns per loop (mean ± std. dev. of 7 runs, 100000 loops each)\n",
      "36.6 ns ± 0.873 ns per loop (mean ± std. dev. of 7 runs, 10000000 loops each)\n"
     ]
    }
   ],
   "source": [
    "l = list(range(100000))\n",
    "%timeit 99,999 in l\n",
    "%timeit 1 in l"
   ]
  },
  {
   "cell_type": "code",
   "execution_count": 28,
   "metadata": {},
   "outputs": [
    {
     "name": "stdout",
     "output_type": "stream",
     "text": [
      "64.7 ns ± 2.05 ns per loop (mean ± std. dev. of 7 runs, 10000000 loops each)\n",
      "32.8 ns ± 0.886 ns per loop (mean ± std. dev. of 7 runs, 10000000 loops each)\n"
     ]
    }
   ],
   "source": [
    "s = set(range(100000))\n",
    "%timeit 99,999 in s\n",
    "%timeit 1 in s"
   ]
  },
  {
   "cell_type": "markdown",
   "metadata": {},
   "source": [
    "Wow!!! Notice how when we iterated through the list, the amount of time it took depended greatly on the position of the number we were testing in the array (from micro to nano seconds). For the set, the variation in our time was much less. Now let's investigate a common use case for a set in Natural Language Processing. \n",
    "\n",
    "## NLP Example\n",
    "\n",
    "Here I am importing \"stopwords\" from NLTK, a natural language processing library. Stopwords are words that are so frequently used in the English language that they will probably be used in any context. My goal in this next section will be to eliminate the stopwords from a sentence taken from Alice in Wonderland."
   ]
  },
  {
   "cell_type": "code",
   "execution_count": 29,
   "metadata": {},
   "outputs": [],
   "source": [
    "stop = stopwords.words('english')\n",
    "alice_sentence = \"\"\"So she was considering in her own mind (as well as she could, for the\n",
    "hot day made her feel very sleepy and stupid), whether the pleasure\n",
    "of making a daisy-chain would be worth the trouble of getting up and\n",
    "picking the daisies, when suddenly a White Rabbit with pink eyes ran\n",
    "close by her.\"\"\"\n"
   ]
  },
  {
   "cell_type": "markdown",
   "metadata": {},
   "source": [
    "Here are the stopwords that we are removing"
   ]
  },
  {
   "cell_type": "code",
   "execution_count": 30,
   "metadata": {},
   "outputs": [
    {
     "name": "stdout",
     "output_type": "stream",
     "text": [
      "<class 'list'>\n",
      "['i', 'me', 'my', 'myself', 'we', 'our', 'ours', 'ourselves', 'you', \"you're\", \"you've\", \"you'll\", \"you'd\", 'your', 'yours', 'yourself', 'yourselves', 'he', 'him', 'his', 'himself', 'she', \"she's\", 'her', 'hers', 'herself', 'it', \"it's\", 'its', 'itself', 'they', 'them', 'their', 'theirs', 'themselves', 'what', 'which', 'who', 'whom', 'this', 'that', \"that'll\", 'these', 'those', 'am', 'is', 'are', 'was', 'were', 'be', 'been', 'being', 'have', 'has', 'had', 'having', 'do', 'does', 'did', 'doing', 'a', 'an', 'the', 'and', 'but', 'if', 'or', 'because', 'as', 'until', 'while', 'of', 'at', 'by', 'for', 'with', 'about', 'against', 'between', 'into', 'through', 'during', 'before', 'after', 'above', 'below', 'to', 'from', 'up', 'down', 'in', 'out', 'on', 'off', 'over', 'under', 'again', 'further', 'then', 'once', 'here', 'there', 'when', 'where', 'why', 'how', 'all', 'any', 'both', 'each', 'few', 'more', 'most', 'other', 'some', 'such', 'no', 'nor', 'not', 'only', 'own', 'same', 'so', 'than', 'too', 'very', 's', 't', 'can', 'will', 'just', 'don', \"don't\", 'should', \"should've\", 'now', 'd', 'll', 'm', 'o', 're', 've', 'y', 'ain', 'aren', \"aren't\", 'couldn', \"couldn't\", 'didn', \"didn't\", 'doesn', \"doesn't\", 'hadn', \"hadn't\", 'hasn', \"hasn't\", 'haven', \"haven't\", 'isn', \"isn't\", 'ma', 'mightn', \"mightn't\", 'mustn', \"mustn't\", 'needn', \"needn't\", 'shan', \"shan't\", 'shouldn', \"shouldn't\", 'wasn', \"wasn't\", 'weren', \"weren't\", 'won', \"won't\", 'wouldn', \"wouldn't\"]\n"
     ]
    }
   ],
   "source": [
    "print(type(stop))\n",
    "print(stop)"
   ]
  },
  {
   "cell_type": "markdown",
   "metadata": {},
   "source": [
    "Here we have a list comprehension that is iterating through the words from Alice in Wonderland and determining if they are stopwords or not. After going through the sentence, we will only have the non-stopwords, which we see printed below."
   ]
  },
  {
   "cell_type": "code",
   "execution_count": 31,
   "metadata": {},
   "outputs": [
    {
     "name": "stdout",
     "output_type": "stream",
     "text": [
      "['so', 'considering', 'mind', 'as', 'well', 'could', 'hot', 'day', 'made', 'feel', 'sleepy', 'stupid', 'whether', 'pleasure', 'making', 'daisy-chain', 'would', 'worth', 'trouble', 'getting', 'picking', 'daisies', 'suddenly', 'white', 'rabbit', 'pink', 'eyes', 'ran', 'close', 'her']\n"
     ]
    }
   ],
   "source": [
    "print([word.strip(string.punctuation).lower() for word in alice_sentence.split() if word not in stop])"
   ]
  },
  {
   "cell_type": "markdown",
   "metadata": {},
   "source": [
    "Now let's compare the speed difference between using lists and sets"
   ]
  },
  {
   "cell_type": "code",
   "execution_count": 32,
   "metadata": {},
   "outputs": [
    {
     "name": "stdout",
     "output_type": "stream",
     "text": [
      "90.9 µs ± 772 ns per loop (mean ± std. dev. of 7 runs, 10000 loops each)\n"
     ]
    }
   ],
   "source": [
    "#the strip(string.punctuation) is removing all extranious punctuation from each word\n",
    "%timeit [word.strip(string.punctuation).lower() for word in alice_sentence.split() if word not in stop]\n"
   ]
  },
  {
   "cell_type": "code",
   "execution_count": 33,
   "metadata": {},
   "outputs": [
    {
     "name": "stdout",
     "output_type": "stream",
     "text": [
      "14.8 µs ± 398 ns per loop (mean ± std. dev. of 7 runs, 100000 loops each)\n"
     ]
    }
   ],
   "source": [
    "set_stop = set(stop)\n",
    "\n",
    "%timeit [word.strip(string.punctuation).lower() for word in alice_sentence.split() if word not in set_stop]\n",
    "\n"
   ]
  },
  {
   "cell_type": "markdown",
   "metadata": {},
   "source": [
    "## Practice Problems\n",
    "\n",
    "1) Create a function that prompts users for 2 different lists of numbers (integers). Then the script should print out the numbers that are present in both lists.\n",
    "\n",
    " Example: If you inputted the numbers `5, 4, 2, 9, 10` first, and `3, 5, 9, -4, 9` second, your script should print `9, 5`. Make sure to use sets.\n",
    "\n",
    "\n",
    "\n",
    "\n",
    "\n",
    "2) Imagine you are watching a nature documentary, and you want to keep track of all the animals you see on screen. Write a function that will repeatedly asks the user for an animal in string form until they type 'stop' at which point the function should return all of the animals seen. To view the animals seen so far, the user can type in 'all_animals'. All inputs should be case insenstive.\n",
    "\n",
    "\n",
    "\n",
    "While solving these problems, remember to use these methods\n",
    "\n",
    "\n",
    "set.add                         \n",
    "set.intersection                 \n",
    "set.remove\n",
    "set.clear                        \n",
    "set.intersection_update          \n",
    "set.symmetric_difference\n",
    "set.copy                         \n",
    "set.isdisjoint                   \n",
    "set.symmetric_difference_update\n",
    "set.difference                   \n",
    "set.issubset                     \n",
    "set.union\n",
    "set.difference_update            \n",
    "set.issuperset                   \n",
    "set.update\n",
    "set.discard                      \n",
    "set.pop  \n"
   ]
  },
  {
   "cell_type": "code",
   "execution_count": null,
   "metadata": {},
   "outputs": [],
   "source": [
    "def number_checker():\n",
    "    list_1 = input('Please enter numbers separated by commas: ')\n",
    "    list_2 = input('Please enter more separated by commas: ')\n",
    "    first_set = set(int(num) for num in list_1.split(','))\n",
    "    second_set = set(int(num) for num in list_2.split(','))\n",
    "    print(first_set.intersection(second_set))\n",
    "    "
   ]
  },
  {
   "cell_type": "markdown",
   "metadata": {},
   "source": [
    "### References\n",
    "first 4 venn-diagram pictures taken from: http://www.texample.net/tikz/examples/set-operations-illustrated-with-venn-diagrams/\n",
    "\n",
    "subset/superset picture taken from:\n",
    "https://en.wikipedia.org/wiki/Subset#/media/File:Venn_A_subset_B.svg\n"
   ]
  }
 ],
 "metadata": {
  "kernelspec": {
   "display_name": "Python 3",
   "language": "python",
   "name": "python3"
  },
  "language_info": {
   "codemirror_mode": {
    "name": "ipython",
    "version": 3
   },
   "file_extension": ".py",
   "mimetype": "text/x-python",
   "name": "python",
   "nbconvert_exporter": "python",
   "pygments_lexer": "ipython3",
   "version": "3.6.4"
  }
 },
 "nbformat": 4,
 "nbformat_minor": 2
}
