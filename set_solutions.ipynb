{
 "cells": [
  {
   "cell_type": "code",
   "execution_count": 1,
   "metadata": {},
   "outputs": [],
   "source": [
    "\"\"\"1) Create a function that prompts users for 2 different lists of numbers (integers). Then \n",
    "the script should print out the numbers that are present in both lists.\n",
    "\n",
    " For example: If you inputted the numbers `5, 4, 2, 9, 10` first, and `3, 5, 9, -4, 9` second,\n",
    " your script should print `9, 5`. Make sure to use sets.\n",
    "\"\"\"\n",
    "def number_checker():\n",
    "    list_1 = input('Please enter numbers separated by commas: ')\n",
    "    list_2 = input('Please enter more separated by commas: ')\n",
    "    first_set = set(int(num) for num in list_1.split(','))\n",
    "    second_set = set(int(num) for num in list_2.split(','))\n",
    "    print(first_set.intersection(second_set))\n",
    "    \n",
    "    \n"
   ]
  },
  {
   "cell_type": "code",
   "execution_count": 2,
   "metadata": {},
   "outputs": [],
   "source": [
    "\"\"\"\n",
    "2) Imagine you are watching a nature documentary, and you want to keep track of all the animals\n",
    "you see on screen. Write a function that will repeatedly asks the user for an animal in \n",
    "string form until they type 'stop' at which point the function should return all of the animals\n",
    "seen. To view the animals seen so far, the user can type in 'all_animals'. All inputs should\n",
    "be case insenstive.\"\"\"\n",
    "\n",
    "def animal_tracker( ):\n",
    "    i = ''\n",
    "    animals = set()\n",
    "    while True:\n",
    "        i = input('Please enter a new animal\\nTo stop type \"stop\"\\nTo see all animals type \"all_animals\": ').lower()\n",
    "        \n",
    "        if i == 'stop':\n",
    "            break\n",
    "        elif i == 'all_animals':\n",
    "            print(animals)\n",
    "        else:\n",
    "            animals.add(i)\n",
    "        \n",
    "    return animals"
   ]
  }
 ],
 "metadata": {
  "kernelspec": {
   "display_name": "Python 3",
   "language": "python",
   "name": "python3"
  },
  "language_info": {
   "codemirror_mode": {
    "name": "ipython",
    "version": 3
   },
   "file_extension": ".py",
   "mimetype": "text/x-python",
   "name": "python",
   "nbconvert_exporter": "python",
   "pygments_lexer": "ipython3",
   "version": "3.6.4"
  }
 },
 "nbformat": 4,
 "nbformat_minor": 2
}
